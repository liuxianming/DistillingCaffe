{
 "cells": [
  {
   "cell_type": "code",
   "execution_count": 1,
   "metadata": {
    "collapsed": false
   },
   "outputs": [],
   "source": [
    "import performance_test\n",
    "#from performance_test import *\n",
    "import pickle\n",
    "\n",
    "# Test field\n",
    "tester = performance_test.LMDB_CaffeNet_Classifier()\n",
    "tester = performance_test.LMDB_CaffeNet_Classifier()\n",
    "\n",
    "test_image_lmdb = '/mnt/ilcompf2d1/data/be/prepared-2015-06-15/LMDB/TESTING/image'\n",
    "test_field_lmdb = '/mnt/ilcompf2d1/data/be/prepared-2015-06-15/LMDB/TESTING/field'\n",
    "test_site_lmdb = '/mnt/ilcompf2d1/data/be/prepared-2015-06-15/LMDB/TESTING/site'\n",
    "image_mean = './behance.binaryproto'\n",
    "\n",
    "field_network_fn='/mnt/ilcompf0d0/user/xliu/code/caffe/examples/distilling/deploy_field_alexnet.prototxt'\n",
    "field_model_fn = '/mnt/ilcompf0d0/user/xliu/code/caffe/examples/distilling/conv_field_iter_30000.caffemodel'\n",
    "\n",
    "site_network_fn='/mnt/ilcompf0d0/user/xliu/code/caffe/examples/distilling/deploy_site_alexnet.prototxt'\n",
    "site_model_fn = '/mnt/ilcompf0d0/user/xliu/code/caffe/examples/distilling/conv_site_iter_30000.caffemodel'\n"
   ]
  },
  {
   "cell_type": "code",
   "execution_count": null,
   "metadata": {
    "collapsed": false
   },
   "outputs": [
    {
     "name": "stdout",
     "output_type": "stream",
     "text": [
      "Testing Field Performance===================================\n",
      "Reading Image Mean from file = ./behance.binaryproto\n",
      "[Debug Info]: Image Mean Shape = (3, 256, 256)"
     ]
    }
   ],
   "source": [
    "print \"Testing Field Performance===================================\"\n",
    "tester.load_data(test_image_lmdb, image_mean, label_lmdb=test_field_lmdb, compressed_label=False)\n",
    "\n",
    "tester.set_network(field_network_fn, field_model_fn, mode='CPU')\n",
    "tester.classify_dataset()\n",
    "\n",
    "# calculate performance\n",
    "tester.get_prs()\n",
    "tester.plot_curve(tester.r['micro'], tester.p['micro'],\n",
    "                  label='Micro, AUC={}'.format(tester.auc['micro']),\n",
    "                  title='PR Curve of Field Classification',\n",
    "                  figure_fn='field_pr.png')\n",
    "# save to files\n",
    "with open('field_precision.p', 'wb') as f_p_fp:\n",
    "    pickle.dump(tester.p, f_p_fp)\n",
    "with open('field_recall.p', 'wb') as f_r_fp:\n",
    "    pickle.dump(tester.r, f_r_fp)\n",
    "with open('field_auc.p', 'wb') as f_a_fp:\n",
    "    pickle.dump(tester.auc, f_a_fp)"
   ]
  },
  {
   "cell_type": "code",
   "execution_count": null,
   "metadata": {
    "collapsed": true
   },
   "outputs": [],
   "source": [
    "# Test site classification\n",
    "print \"Testing Site Performance===================================\"\n",
    "tester.load_label(test_site_lmdb, compressed_label=False)\n",
    "tester.set_network(site_network_fn, site_model_fn, mode='GPU')\n",
    "tester.classify_dataset()\n",
    "\n",
    "# calculate performance\n",
    "tester.get_prs()\n",
    "tester.plot_curve(tester.r['micro'], tester.p['micro'],\n",
    "                  label='Micro, AUC={}'.format(tester.auc['micro']),\n",
    "                  title='PR Curve of Site Classification',\n",
    "                  figure_fn='site_pr.png')\n",
    "# save to files\n",
    "with open('site_precision.p', 'wb') as s_p_fp:\n",
    "    pickle.dump(tester.p, s_p_fp)\n",
    "with open('site_recall.p', 'wb') as s_r_fp:\n",
    "    pickle.dump(tester.r, s_r_fp)\n",
    "with open('site_auc.p', 'wb') as s_a_fp:\n",
    "    pickle.dump(tester.auc, s_a_fp)"
   ]
  },
  {
   "cell_type": "code",
   "execution_count": 1,
   "metadata": {
    "collapsed": true
   },
   "outputs": [],
   "source": [
    "import performance_test\n",
    "test_image_lmdb = '/mnt/ilcompf2d1/data/be/prepared-2015-06-15/Encoded_LMDB/TESTING/image'\n",
    "test_field_lmdb = '/mnt/ilcompf2d1/data/be/prepared-2015-06-15/Encoded_LMDB/TESTING/field'\n",
    "image_mean = './behance.binaryproto'\n",
    "Retrain_network_fn='/mnt/ilcompf0d0/user/xliu/code/caffe/examples/distilling/Retrain_Conv5/deploy_alexnet.prototxt'\n",
    "Retrain_model_fn = '/mnt/ilcompf0d0/user/xliu/code/caffe/examples/distilling/Retrain_Conv5/alexnet_field_iter_20000.caffemodel'"
   ]
  },
  {
   "cell_type": "code",
   "execution_count": 2,
   "metadata": {
    "collapsed": true
   },
   "outputs": [],
   "source": [
    "caffe_root = '../../'  # this file is expected to be in {caffe_root}/examples\n",
    "import sys\n",
    "sys.path.insert(0, caffe_root + 'python')\n",
    "import caffe"
   ]
  },
  {
   "cell_type": "code",
   "execution_count": null,
   "metadata": {
    "collapsed": true
   },
   "outputs": [],
   "source": [
    "caffe.set_mode_cpu()\n",
    "net = caffe.Net(Retrain_network_fn, Retrain_model_fn, caffe.TEST)"
   ]
  },
  {
   "cell_type": "code",
   "execution_count": null,
   "metadata": {
    "collapsed": true
   },
   "outputs": [],
   "source": []
  }
 ],
 "metadata": {
  "kernelspec": {
   "display_name": "Python 2",
   "language": "python",
   "name": "python2"
  },
  "language_info": {
   "codemirror_mode": {
    "name": "ipython",
    "version": 2
   },
   "file_extension": ".py",
   "mimetype": "text/x-python",
   "name": "python",
   "nbconvert_exporter": "python",
   "pygments_lexer": "ipython2",
   "version": "2.7.6"
  }
 },
 "nbformat": 4,
 "nbformat_minor": 0
}
